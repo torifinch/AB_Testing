{
  "nbformat": 4,
  "nbformat_minor": 0,
  "metadata": {
    "colab": {
      "provenance": [],
      "authorship_tag": "ABX9TyP4R6VdZqIa8A0XAWWIT4v1",
      "include_colab_link": true
    },
    "kernelspec": {
      "name": "python3",
      "display_name": "Python 3"
    },
    "language_info": {
      "name": "python"
    }
  },
  "cells": [
    {
      "cell_type": "markdown",
      "metadata": {
        "id": "view-in-github",
        "colab_type": "text"
      },
      "source": [
        "<a href=\"https://colab.research.google.com/github/torifinch/AB_Testing/blob/main/ABTesting.ipynb\" target=\"_parent\"><img src=\"https://colab.research.google.com/assets/colab-badge.svg\" alt=\"Open In Colab\"/></a>"
      ]
    },
    {
      "cell_type": "markdown",
      "source": [
        "# 📈 A/B Testing Analysis: Marketing Campaign Performance\n",
        "\n",
        "**Author:** Victoria Finch  \n",
        "**Role:** Data Analyst  \n",
        "**Tools Used:** Python, Pandas, Seaborn, SciPy  \n",
        "**Dataset:** Simulated marketing campaigns (Control vs Test)\n",
        "\n",
        "---\n",
        "\n",
        "##  Project Summary\n",
        "\n",
        "This project investigates whether a new marketing campaign strategy leads to improved performance over a previous campaign. Using A/B testing principles, we compare:\n",
        "\n",
        "- **Return on Investment (ROI)**  \n",
        "- **Purchase Rate (PR)**  \n",
        "\n",
        "We perform statistical testing (Mann-Whitney U Test) to determine whether observed differences are statistically significant, and we draw actionable insights for business decision-making.\n",
        "\n",
        "---\n",
        "\n",
        "##  Hypotheses\n",
        "\n",
        "1. **H1**: The *Test Campaign* results in a **5%+ increase in ROI** compared to the *Control Campaign*.\n",
        "2. **H2**: The *Test Campaign* results in an **8%+ increase in Purchase Rate (PR)** compared to the *Control Campaign*.\n",
        "\n",
        "---\n",
        "\n",
        "##  Notebook Contents\n",
        "\n",
        "- Data Cleaning & Feature Engineering\n",
        "- Exploratory Data Analysis (EDA)\n",
        "- Hypothesis Testing (Non-Parametric)\n",
        "- Visualizations of Results\n",
        "- Final Insights & Recommendations\n"
      ],
      "metadata": {
        "id": "m9luENo4dbsJ"
      }
    },
    {
      "cell_type": "markdown",
      "source": [
        "###IMPORT LIBRARIES & DATA"
      ],
      "metadata": {
        "id": "05dTxb4NRTni"
      }
    },
    {
      "cell_type": "code",
      "source": [
        "import pandas as pd\n",
        "import numpy as np\n",
        "import matplotlib.pyplot as plt\n",
        "import seaborn as sns\n",
        "\n",
        "from datetime import datetime\n",
        "\n",
        "from scipy.stats import mannwhitneyu, ttest_ind, levene, shapiro\n",
        "#hypothesis testing\n",
        "from statsmodels.stats.proportion import proportions_ztest"
      ],
      "metadata": {
        "id": "lzWgMlv0PjMj"
      },
      "execution_count": 54,
      "outputs": []
    },
    {
      "cell_type": "code",
      "execution_count": 55,
      "metadata": {
        "colab": {
          "base_uri": "https://localhost:8080/"
        },
        "id": "-NxrKaeUPduN",
        "outputId": "37ebb675-d2a1-46bf-e792-673ea7a89ac0"
      },
      "outputs": [
        {
          "output_type": "stream",
          "name": "stdout",
          "text": [
            "Drive already mounted at /content/drive; to attempt to forcibly remount, call drive.mount(\"/content/drive\", force_remount=True).\n"
          ]
        }
      ],
      "source": [
        "# Connect drive\n",
        "\n",
        "from google.colab import drive\n",
        "drive.mount('/content/drive')"
      ]
    },
    {
      "cell_type": "code",
      "source": [
        "df_test = pd.read_csv('/content/drive/MyDrive/Datasets/AB_Marketing/test_group.csv', delimiter=';')\n",
        "df_control = pd.read_csv('/content/drive/MyDrive/Datasets/AB_Marketing/control_group.csv', delimiter=';')\n",
        "\n",
        "df_full = pd.concat([df_test, df_control])\n",
        "df_full.head()"
      ],
      "metadata": {
        "colab": {
          "base_uri": "https://localhost:8080/",
          "height": 206
        },
        "id": "CaviEOixPmBs",
        "outputId": "ab90f274-5a96-418d-e41d-9ec6abfb6fef"
      },
      "execution_count": 56,
      "outputs": [
        {
          "output_type": "execute_result",
          "data": {
            "text/plain": [
              "   Campaign Name       Date  Spend [USD]  # of Impressions    Reach  \\\n",
              "0  Test Campaign  1.08.2019         3008           39550.0  35820.0   \n",
              "1  Test Campaign  2.08.2019         2542          100719.0  91236.0   \n",
              "2  Test Campaign  3.08.2019         2365           70263.0  45198.0   \n",
              "3  Test Campaign  4.08.2019         2710           78451.0  25937.0   \n",
              "4  Test Campaign  5.08.2019         2297          114295.0  95138.0   \n",
              "\n",
              "   # of Website Clicks  # of Searches  # of View Content  # of Add to Cart  \\\n",
              "0               3038.0         1946.0             1069.0             894.0   \n",
              "1               4657.0         2359.0             1548.0             879.0   \n",
              "2               7885.0         2572.0             2367.0            1268.0   \n",
              "3               4216.0         2216.0             1437.0             566.0   \n",
              "4               5863.0         2106.0              858.0             956.0   \n",
              "\n",
              "   # of Purchase  \n",
              "0          255.0  \n",
              "1          677.0  \n",
              "2          578.0  \n",
              "3          340.0  \n",
              "4          768.0  "
            ],
            "text/html": [
              "\n",
              "  <div id=\"df-bd978946-c978-493e-8f33-fd94582952f8\" class=\"colab-df-container\">\n",
              "    <div>\n",
              "<style scoped>\n",
              "    .dataframe tbody tr th:only-of-type {\n",
              "        vertical-align: middle;\n",
              "    }\n",
              "\n",
              "    .dataframe tbody tr th {\n",
              "        vertical-align: top;\n",
              "    }\n",
              "\n",
              "    .dataframe thead th {\n",
              "        text-align: right;\n",
              "    }\n",
              "</style>\n",
              "<table border=\"1\" class=\"dataframe\">\n",
              "  <thead>\n",
              "    <tr style=\"text-align: right;\">\n",
              "      <th></th>\n",
              "      <th>Campaign Name</th>\n",
              "      <th>Date</th>\n",
              "      <th>Spend [USD]</th>\n",
              "      <th># of Impressions</th>\n",
              "      <th>Reach</th>\n",
              "      <th># of Website Clicks</th>\n",
              "      <th># of Searches</th>\n",
              "      <th># of View Content</th>\n",
              "      <th># of Add to Cart</th>\n",
              "      <th># of Purchase</th>\n",
              "    </tr>\n",
              "  </thead>\n",
              "  <tbody>\n",
              "    <tr>\n",
              "      <th>0</th>\n",
              "      <td>Test Campaign</td>\n",
              "      <td>1.08.2019</td>\n",
              "      <td>3008</td>\n",
              "      <td>39550.0</td>\n",
              "      <td>35820.0</td>\n",
              "      <td>3038.0</td>\n",
              "      <td>1946.0</td>\n",
              "      <td>1069.0</td>\n",
              "      <td>894.0</td>\n",
              "      <td>255.0</td>\n",
              "    </tr>\n",
              "    <tr>\n",
              "      <th>1</th>\n",
              "      <td>Test Campaign</td>\n",
              "      <td>2.08.2019</td>\n",
              "      <td>2542</td>\n",
              "      <td>100719.0</td>\n",
              "      <td>91236.0</td>\n",
              "      <td>4657.0</td>\n",
              "      <td>2359.0</td>\n",
              "      <td>1548.0</td>\n",
              "      <td>879.0</td>\n",
              "      <td>677.0</td>\n",
              "    </tr>\n",
              "    <tr>\n",
              "      <th>2</th>\n",
              "      <td>Test Campaign</td>\n",
              "      <td>3.08.2019</td>\n",
              "      <td>2365</td>\n",
              "      <td>70263.0</td>\n",
              "      <td>45198.0</td>\n",
              "      <td>7885.0</td>\n",
              "      <td>2572.0</td>\n",
              "      <td>2367.0</td>\n",
              "      <td>1268.0</td>\n",
              "      <td>578.0</td>\n",
              "    </tr>\n",
              "    <tr>\n",
              "      <th>3</th>\n",
              "      <td>Test Campaign</td>\n",
              "      <td>4.08.2019</td>\n",
              "      <td>2710</td>\n",
              "      <td>78451.0</td>\n",
              "      <td>25937.0</td>\n",
              "      <td>4216.0</td>\n",
              "      <td>2216.0</td>\n",
              "      <td>1437.0</td>\n",
              "      <td>566.0</td>\n",
              "      <td>340.0</td>\n",
              "    </tr>\n",
              "    <tr>\n",
              "      <th>4</th>\n",
              "      <td>Test Campaign</td>\n",
              "      <td>5.08.2019</td>\n",
              "      <td>2297</td>\n",
              "      <td>114295.0</td>\n",
              "      <td>95138.0</td>\n",
              "      <td>5863.0</td>\n",
              "      <td>2106.0</td>\n",
              "      <td>858.0</td>\n",
              "      <td>956.0</td>\n",
              "      <td>768.0</td>\n",
              "    </tr>\n",
              "  </tbody>\n",
              "</table>\n",
              "</div>\n",
              "    <div class=\"colab-df-buttons\">\n",
              "\n",
              "  <div class=\"colab-df-container\">\n",
              "    <button class=\"colab-df-convert\" onclick=\"convertToInteractive('df-bd978946-c978-493e-8f33-fd94582952f8')\"\n",
              "            title=\"Convert this dataframe to an interactive table.\"\n",
              "            style=\"display:none;\">\n",
              "\n",
              "  <svg xmlns=\"http://www.w3.org/2000/svg\" height=\"24px\" viewBox=\"0 -960 960 960\">\n",
              "    <path d=\"M120-120v-720h720v720H120Zm60-500h600v-160H180v160Zm220 220h160v-160H400v160Zm0 220h160v-160H400v160ZM180-400h160v-160H180v160Zm440 0h160v-160H620v160ZM180-180h160v-160H180v160Zm440 0h160v-160H620v160Z\"/>\n",
              "  </svg>\n",
              "    </button>\n",
              "\n",
              "  <style>\n",
              "    .colab-df-container {\n",
              "      display:flex;\n",
              "      gap: 12px;\n",
              "    }\n",
              "\n",
              "    .colab-df-convert {\n",
              "      background-color: #E8F0FE;\n",
              "      border: none;\n",
              "      border-radius: 50%;\n",
              "      cursor: pointer;\n",
              "      display: none;\n",
              "      fill: #1967D2;\n",
              "      height: 32px;\n",
              "      padding: 0 0 0 0;\n",
              "      width: 32px;\n",
              "    }\n",
              "\n",
              "    .colab-df-convert:hover {\n",
              "      background-color: #E2EBFA;\n",
              "      box-shadow: 0px 1px 2px rgba(60, 64, 67, 0.3), 0px 1px 3px 1px rgba(60, 64, 67, 0.15);\n",
              "      fill: #174EA6;\n",
              "    }\n",
              "\n",
              "    .colab-df-buttons div {\n",
              "      margin-bottom: 4px;\n",
              "    }\n",
              "\n",
              "    [theme=dark] .colab-df-convert {\n",
              "      background-color: #3B4455;\n",
              "      fill: #D2E3FC;\n",
              "    }\n",
              "\n",
              "    [theme=dark] .colab-df-convert:hover {\n",
              "      background-color: #434B5C;\n",
              "      box-shadow: 0px 1px 3px 1px rgba(0, 0, 0, 0.15);\n",
              "      filter: drop-shadow(0px 1px 2px rgba(0, 0, 0, 0.3));\n",
              "      fill: #FFFFFF;\n",
              "    }\n",
              "  </style>\n",
              "\n",
              "    <script>\n",
              "      const buttonEl =\n",
              "        document.querySelector('#df-bd978946-c978-493e-8f33-fd94582952f8 button.colab-df-convert');\n",
              "      buttonEl.style.display =\n",
              "        google.colab.kernel.accessAllowed ? 'block' : 'none';\n",
              "\n",
              "      async function convertToInteractive(key) {\n",
              "        const element = document.querySelector('#df-bd978946-c978-493e-8f33-fd94582952f8');\n",
              "        const dataTable =\n",
              "          await google.colab.kernel.invokeFunction('convertToInteractive',\n",
              "                                                    [key], {});\n",
              "        if (!dataTable) return;\n",
              "\n",
              "        const docLinkHtml = 'Like what you see? Visit the ' +\n",
              "          '<a target=\"_blank\" href=https://colab.research.google.com/notebooks/data_table.ipynb>data table notebook</a>'\n",
              "          + ' to learn more about interactive tables.';\n",
              "        element.innerHTML = '';\n",
              "        dataTable['output_type'] = 'display_data';\n",
              "        await google.colab.output.renderOutput(dataTable, element);\n",
              "        const docLink = document.createElement('div');\n",
              "        docLink.innerHTML = docLinkHtml;\n",
              "        element.appendChild(docLink);\n",
              "      }\n",
              "    </script>\n",
              "  </div>\n",
              "\n",
              "\n",
              "    <div id=\"df-9ac72f09-b74c-41f5-b377-da2a4e09be65\">\n",
              "      <button class=\"colab-df-quickchart\" onclick=\"quickchart('df-9ac72f09-b74c-41f5-b377-da2a4e09be65')\"\n",
              "                title=\"Suggest charts\"\n",
              "                style=\"display:none;\">\n",
              "\n",
              "<svg xmlns=\"http://www.w3.org/2000/svg\" height=\"24px\"viewBox=\"0 0 24 24\"\n",
              "     width=\"24px\">\n",
              "    <g>\n",
              "        <path d=\"M19 3H5c-1.1 0-2 .9-2 2v14c0 1.1.9 2 2 2h14c1.1 0 2-.9 2-2V5c0-1.1-.9-2-2-2zM9 17H7v-7h2v7zm4 0h-2V7h2v10zm4 0h-2v-4h2v4z\"/>\n",
              "    </g>\n",
              "</svg>\n",
              "      </button>\n",
              "\n",
              "<style>\n",
              "  .colab-df-quickchart {\n",
              "      --bg-color: #E8F0FE;\n",
              "      --fill-color: #1967D2;\n",
              "      --hover-bg-color: #E2EBFA;\n",
              "      --hover-fill-color: #174EA6;\n",
              "      --disabled-fill-color: #AAA;\n",
              "      --disabled-bg-color: #DDD;\n",
              "  }\n",
              "\n",
              "  [theme=dark] .colab-df-quickchart {\n",
              "      --bg-color: #3B4455;\n",
              "      --fill-color: #D2E3FC;\n",
              "      --hover-bg-color: #434B5C;\n",
              "      --hover-fill-color: #FFFFFF;\n",
              "      --disabled-bg-color: #3B4455;\n",
              "      --disabled-fill-color: #666;\n",
              "  }\n",
              "\n",
              "  .colab-df-quickchart {\n",
              "    background-color: var(--bg-color);\n",
              "    border: none;\n",
              "    border-radius: 50%;\n",
              "    cursor: pointer;\n",
              "    display: none;\n",
              "    fill: var(--fill-color);\n",
              "    height: 32px;\n",
              "    padding: 0;\n",
              "    width: 32px;\n",
              "  }\n",
              "\n",
              "  .colab-df-quickchart:hover {\n",
              "    background-color: var(--hover-bg-color);\n",
              "    box-shadow: 0 1px 2px rgba(60, 64, 67, 0.3), 0 1px 3px 1px rgba(60, 64, 67, 0.15);\n",
              "    fill: var(--button-hover-fill-color);\n",
              "  }\n",
              "\n",
              "  .colab-df-quickchart-complete:disabled,\n",
              "  .colab-df-quickchart-complete:disabled:hover {\n",
              "    background-color: var(--disabled-bg-color);\n",
              "    fill: var(--disabled-fill-color);\n",
              "    box-shadow: none;\n",
              "  }\n",
              "\n",
              "  .colab-df-spinner {\n",
              "    border: 2px solid var(--fill-color);\n",
              "    border-color: transparent;\n",
              "    border-bottom-color: var(--fill-color);\n",
              "    animation:\n",
              "      spin 1s steps(1) infinite;\n",
              "  }\n",
              "\n",
              "  @keyframes spin {\n",
              "    0% {\n",
              "      border-color: transparent;\n",
              "      border-bottom-color: var(--fill-color);\n",
              "      border-left-color: var(--fill-color);\n",
              "    }\n",
              "    20% {\n",
              "      border-color: transparent;\n",
              "      border-left-color: var(--fill-color);\n",
              "      border-top-color: var(--fill-color);\n",
              "    }\n",
              "    30% {\n",
              "      border-color: transparent;\n",
              "      border-left-color: var(--fill-color);\n",
              "      border-top-color: var(--fill-color);\n",
              "      border-right-color: var(--fill-color);\n",
              "    }\n",
              "    40% {\n",
              "      border-color: transparent;\n",
              "      border-right-color: var(--fill-color);\n",
              "      border-top-color: var(--fill-color);\n",
              "    }\n",
              "    60% {\n",
              "      border-color: transparent;\n",
              "      border-right-color: var(--fill-color);\n",
              "    }\n",
              "    80% {\n",
              "      border-color: transparent;\n",
              "      border-right-color: var(--fill-color);\n",
              "      border-bottom-color: var(--fill-color);\n",
              "    }\n",
              "    90% {\n",
              "      border-color: transparent;\n",
              "      border-bottom-color: var(--fill-color);\n",
              "    }\n",
              "  }\n",
              "</style>\n",
              "\n",
              "      <script>\n",
              "        async function quickchart(key) {\n",
              "          const quickchartButtonEl =\n",
              "            document.querySelector('#' + key + ' button');\n",
              "          quickchartButtonEl.disabled = true;  // To prevent multiple clicks.\n",
              "          quickchartButtonEl.classList.add('colab-df-spinner');\n",
              "          try {\n",
              "            const charts = await google.colab.kernel.invokeFunction(\n",
              "                'suggestCharts', [key], {});\n",
              "          } catch (error) {\n",
              "            console.error('Error during call to suggestCharts:', error);\n",
              "          }\n",
              "          quickchartButtonEl.classList.remove('colab-df-spinner');\n",
              "          quickchartButtonEl.classList.add('colab-df-quickchart-complete');\n",
              "        }\n",
              "        (() => {\n",
              "          let quickchartButtonEl =\n",
              "            document.querySelector('#df-9ac72f09-b74c-41f5-b377-da2a4e09be65 button');\n",
              "          quickchartButtonEl.style.display =\n",
              "            google.colab.kernel.accessAllowed ? 'block' : 'none';\n",
              "        })();\n",
              "      </script>\n",
              "    </div>\n",
              "\n",
              "    </div>\n",
              "  </div>\n"
            ],
            "application/vnd.google.colaboratory.intrinsic+json": {
              "type": "dataframe",
              "variable_name": "df_full",
              "summary": "{\n  \"name\": \"df_full\",\n  \"rows\": 60,\n  \"fields\": [\n    {\n      \"column\": \"Campaign Name\",\n      \"properties\": {\n        \"dtype\": \"category\",\n        \"num_unique_values\": 2,\n        \"samples\": [\n          \"Control Campaign\",\n          \"Test Campaign\"\n        ],\n        \"semantic_type\": \"\",\n        \"description\": \"\"\n      }\n    },\n    {\n      \"column\": \"Date\",\n      \"properties\": {\n        \"dtype\": \"string\",\n        \"num_unique_values\": 30,\n        \"samples\": [\n          \"28.08.2019\",\n          \"16.08.2019\"\n        ],\n        \"semantic_type\": \"\",\n        \"description\": \"\"\n      }\n    },\n    {\n      \"column\": \"Spend [USD]\",\n      \"properties\": {\n        \"dtype\": \"number\",\n        \"std\": 381,\n        \"min\": 1757,\n        \"max\": 3112,\n        \"num_unique_values\": 60,\n        \"samples\": [\n          3008,\n          2458\n        ],\n        \"semantic_type\": \"\",\n        \"description\": \"\"\n      }\n    },\n    {\n      \"column\": \"# of Impressions\",\n      \"properties\": {\n        \"dtype\": \"number\",\n        \"std\": 32465.070636250206,\n        \"min\": 22521.0,\n        \"max\": 145248.0,\n        \"num_unique_values\": 59,\n        \"samples\": [\n          39550.0,\n          42684.0\n        ],\n        \"semantic_type\": \"\",\n        \"description\": \"\"\n      }\n    },\n    {\n      \"column\": \"Reach\",\n      \"properties\": {\n        \"dtype\": \"number\",\n        \"std\": 31023.65351534364,\n        \"min\": 10598.0,\n        \"max\": 127852.0,\n        \"num_unique_values\": 59,\n        \"samples\": [\n          35820.0,\n          31489.0\n        ],\n        \"semantic_type\": \"\",\n        \"description\": \"\"\n      }\n    },\n    {\n      \"column\": \"# of Website Clicks\",\n      \"properties\": {\n        \"dtype\": \"number\",\n        \"std\": 1754.7775585393279,\n        \"min\": 2277.0,\n        \"max\": 8264.0,\n        \"num_unique_values\": 59,\n        \"samples\": [\n          3038.0,\n          7488.0\n        ],\n        \"semantic_type\": \"\",\n        \"description\": \"\"\n      }\n    },\n    {\n      \"column\": \"# of Searches\",\n      \"properties\": {\n        \"dtype\": \"number\",\n        \"std\": 669.0405759195536,\n        \"min\": 1001.0,\n        \"max\": 4891.0,\n        \"num_unique_values\": 58,\n        \"samples\": [\n          1946.0,\n          1854.0\n        ],\n        \"semantic_type\": \"\",\n        \"description\": \"\"\n      }\n    },\n    {\n      \"column\": \"# of View Content\",\n      \"properties\": {\n        \"dtype\": \"number\",\n        \"std\": 687.2638441435563,\n        \"min\": 848.0,\n        \"max\": 4219.0,\n        \"num_unique_values\": 56,\n        \"samples\": [\n          1069.0,\n          1073.0\n        ],\n        \"semantic_type\": \"\",\n        \"description\": \"\"\n      }\n    },\n    {\n      \"column\": \"# of Add to Cart\",\n      \"properties\": {\n        \"dtype\": \"number\",\n        \"std\": 430.2052464370373,\n        \"min\": 278.0,\n        \"max\": 1913.0,\n        \"num_unique_values\": 59,\n        \"samples\": [\n          894.0,\n          882.0\n        ],\n        \"semantic_type\": \"\",\n        \"description\": \"\"\n      }\n    },\n    {\n      \"column\": \"# of Purchase\",\n      \"properties\": {\n        \"dtype\": \"number\",\n        \"std\": 196.97391740515047,\n        \"min\": 222.0,\n        \"max\": 890.0,\n        \"num_unique_values\": 55,\n        \"samples\": [\n          764.0,\n          488.0\n        ],\n        \"semantic_type\": \"\",\n        \"description\": \"\"\n      }\n    }\n  ]\n}"
            }
          },
          "metadata": {},
          "execution_count": 56
        }
      ]
    },
    {
      "cell_type": "markdown",
      "source": [
        "###DATA PREPARATION AND CLEANING"
      ],
      "metadata": {
        "id": "F82sijBtRPJp"
      }
    },
    {
      "cell_type": "code",
      "source": [
        "# Check datatypes\n",
        "df_full.dtypes"
      ],
      "metadata": {
        "colab": {
          "base_uri": "https://localhost:8080/",
          "height": 398
        },
        "id": "SWSJaejTTcgv",
        "outputId": "de4ca2bd-1846-4b3b-d1cf-0ea136f8bf0f"
      },
      "execution_count": 57,
      "outputs": [
        {
          "output_type": "execute_result",
          "data": {
            "text/plain": [
              "Campaign Name           object\n",
              "Date                    object\n",
              "Spend [USD]              int64\n",
              "# of Impressions       float64\n",
              "Reach                  float64\n",
              "# of Website Clicks    float64\n",
              "# of Searches          float64\n",
              "# of View Content      float64\n",
              "# of Add to Cart       float64\n",
              "# of Purchase          float64\n",
              "dtype: object"
            ],
            "text/html": [
              "<div>\n",
              "<style scoped>\n",
              "    .dataframe tbody tr th:only-of-type {\n",
              "        vertical-align: middle;\n",
              "    }\n",
              "\n",
              "    .dataframe tbody tr th {\n",
              "        vertical-align: top;\n",
              "    }\n",
              "\n",
              "    .dataframe thead th {\n",
              "        text-align: right;\n",
              "    }\n",
              "</style>\n",
              "<table border=\"1\" class=\"dataframe\">\n",
              "  <thead>\n",
              "    <tr style=\"text-align: right;\">\n",
              "      <th></th>\n",
              "      <th>0</th>\n",
              "    </tr>\n",
              "  </thead>\n",
              "  <tbody>\n",
              "    <tr>\n",
              "      <th>Campaign Name</th>\n",
              "      <td>object</td>\n",
              "    </tr>\n",
              "    <tr>\n",
              "      <th>Date</th>\n",
              "      <td>object</td>\n",
              "    </tr>\n",
              "    <tr>\n",
              "      <th>Spend [USD]</th>\n",
              "      <td>int64</td>\n",
              "    </tr>\n",
              "    <tr>\n",
              "      <th># of Impressions</th>\n",
              "      <td>float64</td>\n",
              "    </tr>\n",
              "    <tr>\n",
              "      <th>Reach</th>\n",
              "      <td>float64</td>\n",
              "    </tr>\n",
              "    <tr>\n",
              "      <th># of Website Clicks</th>\n",
              "      <td>float64</td>\n",
              "    </tr>\n",
              "    <tr>\n",
              "      <th># of Searches</th>\n",
              "      <td>float64</td>\n",
              "    </tr>\n",
              "    <tr>\n",
              "      <th># of View Content</th>\n",
              "      <td>float64</td>\n",
              "    </tr>\n",
              "    <tr>\n",
              "      <th># of Add to Cart</th>\n",
              "      <td>float64</td>\n",
              "    </tr>\n",
              "    <tr>\n",
              "      <th># of Purchase</th>\n",
              "      <td>float64</td>\n",
              "    </tr>\n",
              "  </tbody>\n",
              "</table>\n",
              "</div><br><label><b>dtype:</b> object</label>"
            ]
          },
          "metadata": {},
          "execution_count": 57
        }
      ]
    },
    {
      "cell_type": "code",
      "source": [
        "# Update Datetime Format\n",
        "df_full['Date'] = pd.to_datetime(df_full['Date'], format='%d.%m.%Y')"
      ],
      "metadata": {
        "id": "LfYgnr_gR4eU"
      },
      "execution_count": 58,
      "outputs": []
    },
    {
      "cell_type": "code",
      "source": [
        "#Remove Spaces from Columns\n",
        "df_full.columns = df_full.columns.str.replace(' ', '_')\n",
        "\n",
        "#All lowercase\n",
        "df_full.columns = df_full.columns.str.lower()"
      ],
      "metadata": {
        "id": "SE0HbNDGSDVZ"
      },
      "execution_count": 59,
      "outputs": []
    },
    {
      "cell_type": "code",
      "source": [
        "# Unique campaign name\n",
        "df_full['campaign_name'].unique()"
      ],
      "metadata": {
        "colab": {
          "base_uri": "https://localhost:8080/"
        },
        "id": "eqWs323qSzYJ",
        "outputId": "b7f1fe81-7456-4006-c8d1-49f9fcc6dccc"
      },
      "execution_count": 60,
      "outputs": [
        {
          "output_type": "execute_result",
          "data": {
            "text/plain": [
              "array(['Test Campaign', 'Control Campaign'], dtype=object)"
            ]
          },
          "metadata": {},
          "execution_count": 60
        }
      ]
    },
    {
      "cell_type": "code",
      "source": [
        "df_full.head()"
      ],
      "metadata": {
        "colab": {
          "base_uri": "https://localhost:8080/",
          "height": 206
        },
        "id": "Q-zA4n5fSKxF",
        "outputId": "8a20bdce-e15e-42b1-ed7d-83beb7821a3d"
      },
      "execution_count": 61,
      "outputs": [
        {
          "output_type": "execute_result",
          "data": {
            "text/plain": [
              "   campaign_name       date  spend_[usd]  #_of_impressions    reach  \\\n",
              "0  Test Campaign 2019-08-01         3008           39550.0  35820.0   \n",
              "1  Test Campaign 2019-08-02         2542          100719.0  91236.0   \n",
              "2  Test Campaign 2019-08-03         2365           70263.0  45198.0   \n",
              "3  Test Campaign 2019-08-04         2710           78451.0  25937.0   \n",
              "4  Test Campaign 2019-08-05         2297          114295.0  95138.0   \n",
              "\n",
              "   #_of_website_clicks  #_of_searches  #_of_view_content  #_of_add_to_cart  \\\n",
              "0               3038.0         1946.0             1069.0             894.0   \n",
              "1               4657.0         2359.0             1548.0             879.0   \n",
              "2               7885.0         2572.0             2367.0            1268.0   \n",
              "3               4216.0         2216.0             1437.0             566.0   \n",
              "4               5863.0         2106.0              858.0             956.0   \n",
              "\n",
              "   #_of_purchase  \n",
              "0          255.0  \n",
              "1          677.0  \n",
              "2          578.0  \n",
              "3          340.0  \n",
              "4          768.0  "
            ],
            "text/html": [
              "\n",
              "  <div id=\"df-26d61534-7b99-4bcd-8c40-8674c9a77941\" class=\"colab-df-container\">\n",
              "    <div>\n",
              "<style scoped>\n",
              "    .dataframe tbody tr th:only-of-type {\n",
              "        vertical-align: middle;\n",
              "    }\n",
              "\n",
              "    .dataframe tbody tr th {\n",
              "        vertical-align: top;\n",
              "    }\n",
              "\n",
              "    .dataframe thead th {\n",
              "        text-align: right;\n",
              "    }\n",
              "</style>\n",
              "<table border=\"1\" class=\"dataframe\">\n",
              "  <thead>\n",
              "    <tr style=\"text-align: right;\">\n",
              "      <th></th>\n",
              "      <th>campaign_name</th>\n",
              "      <th>date</th>\n",
              "      <th>spend_[usd]</th>\n",
              "      <th>#_of_impressions</th>\n",
              "      <th>reach</th>\n",
              "      <th>#_of_website_clicks</th>\n",
              "      <th>#_of_searches</th>\n",
              "      <th>#_of_view_content</th>\n",
              "      <th>#_of_add_to_cart</th>\n",
              "      <th>#_of_purchase</th>\n",
              "    </tr>\n",
              "  </thead>\n",
              "  <tbody>\n",
              "    <tr>\n",
              "      <th>0</th>\n",
              "      <td>Test Campaign</td>\n",
              "      <td>2019-08-01</td>\n",
              "      <td>3008</td>\n",
              "      <td>39550.0</td>\n",
              "      <td>35820.0</td>\n",
              "      <td>3038.0</td>\n",
              "      <td>1946.0</td>\n",
              "      <td>1069.0</td>\n",
              "      <td>894.0</td>\n",
              "      <td>255.0</td>\n",
              "    </tr>\n",
              "    <tr>\n",
              "      <th>1</th>\n",
              "      <td>Test Campaign</td>\n",
              "      <td>2019-08-02</td>\n",
              "      <td>2542</td>\n",
              "      <td>100719.0</td>\n",
              "      <td>91236.0</td>\n",
              "      <td>4657.0</td>\n",
              "      <td>2359.0</td>\n",
              "      <td>1548.0</td>\n",
              "      <td>879.0</td>\n",
              "      <td>677.0</td>\n",
              "    </tr>\n",
              "    <tr>\n",
              "      <th>2</th>\n",
              "      <td>Test Campaign</td>\n",
              "      <td>2019-08-03</td>\n",
              "      <td>2365</td>\n",
              "      <td>70263.0</td>\n",
              "      <td>45198.0</td>\n",
              "      <td>7885.0</td>\n",
              "      <td>2572.0</td>\n",
              "      <td>2367.0</td>\n",
              "      <td>1268.0</td>\n",
              "      <td>578.0</td>\n",
              "    </tr>\n",
              "    <tr>\n",
              "      <th>3</th>\n",
              "      <td>Test Campaign</td>\n",
              "      <td>2019-08-04</td>\n",
              "      <td>2710</td>\n",
              "      <td>78451.0</td>\n",
              "      <td>25937.0</td>\n",
              "      <td>4216.0</td>\n",
              "      <td>2216.0</td>\n",
              "      <td>1437.0</td>\n",
              "      <td>566.0</td>\n",
              "      <td>340.0</td>\n",
              "    </tr>\n",
              "    <tr>\n",
              "      <th>4</th>\n",
              "      <td>Test Campaign</td>\n",
              "      <td>2019-08-05</td>\n",
              "      <td>2297</td>\n",
              "      <td>114295.0</td>\n",
              "      <td>95138.0</td>\n",
              "      <td>5863.0</td>\n",
              "      <td>2106.0</td>\n",
              "      <td>858.0</td>\n",
              "      <td>956.0</td>\n",
              "      <td>768.0</td>\n",
              "    </tr>\n",
              "  </tbody>\n",
              "</table>\n",
              "</div>\n",
              "    <div class=\"colab-df-buttons\">\n",
              "\n",
              "  <div class=\"colab-df-container\">\n",
              "    <button class=\"colab-df-convert\" onclick=\"convertToInteractive('df-26d61534-7b99-4bcd-8c40-8674c9a77941')\"\n",
              "            title=\"Convert this dataframe to an interactive table.\"\n",
              "            style=\"display:none;\">\n",
              "\n",
              "  <svg xmlns=\"http://www.w3.org/2000/svg\" height=\"24px\" viewBox=\"0 -960 960 960\">\n",
              "    <path d=\"M120-120v-720h720v720H120Zm60-500h600v-160H180v160Zm220 220h160v-160H400v160Zm0 220h160v-160H400v160ZM180-400h160v-160H180v160Zm440 0h160v-160H620v160ZM180-180h160v-160H180v160Zm440 0h160v-160H620v160Z\"/>\n",
              "  </svg>\n",
              "    </button>\n",
              "\n",
              "  <style>\n",
              "    .colab-df-container {\n",
              "      display:flex;\n",
              "      gap: 12px;\n",
              "    }\n",
              "\n",
              "    .colab-df-convert {\n",
              "      background-color: #E8F0FE;\n",
              "      border: none;\n",
              "      border-radius: 50%;\n",
              "      cursor: pointer;\n",
              "      display: none;\n",
              "      fill: #1967D2;\n",
              "      height: 32px;\n",
              "      padding: 0 0 0 0;\n",
              "      width: 32px;\n",
              "    }\n",
              "\n",
              "    .colab-df-convert:hover {\n",
              "      background-color: #E2EBFA;\n",
              "      box-shadow: 0px 1px 2px rgba(60, 64, 67, 0.3), 0px 1px 3px 1px rgba(60, 64, 67, 0.15);\n",
              "      fill: #174EA6;\n",
              "    }\n",
              "\n",
              "    .colab-df-buttons div {\n",
              "      margin-bottom: 4px;\n",
              "    }\n",
              "\n",
              "    [theme=dark] .colab-df-convert {\n",
              "      background-color: #3B4455;\n",
              "      fill: #D2E3FC;\n",
              "    }\n",
              "\n",
              "    [theme=dark] .colab-df-convert:hover {\n",
              "      background-color: #434B5C;\n",
              "      box-shadow: 0px 1px 3px 1px rgba(0, 0, 0, 0.15);\n",
              "      filter: drop-shadow(0px 1px 2px rgba(0, 0, 0, 0.3));\n",
              "      fill: #FFFFFF;\n",
              "    }\n",
              "  </style>\n",
              "\n",
              "    <script>\n",
              "      const buttonEl =\n",
              "        document.querySelector('#df-26d61534-7b99-4bcd-8c40-8674c9a77941 button.colab-df-convert');\n",
              "      buttonEl.style.display =\n",
              "        google.colab.kernel.accessAllowed ? 'block' : 'none';\n",
              "\n",
              "      async function convertToInteractive(key) {\n",
              "        const element = document.querySelector('#df-26d61534-7b99-4bcd-8c40-8674c9a77941');\n",
              "        const dataTable =\n",
              "          await google.colab.kernel.invokeFunction('convertToInteractive',\n",
              "                                                    [key], {});\n",
              "        if (!dataTable) return;\n",
              "\n",
              "        const docLinkHtml = 'Like what you see? Visit the ' +\n",
              "          '<a target=\"_blank\" href=https://colab.research.google.com/notebooks/data_table.ipynb>data table notebook</a>'\n",
              "          + ' to learn more about interactive tables.';\n",
              "        element.innerHTML = '';\n",
              "        dataTable['output_type'] = 'display_data';\n",
              "        await google.colab.output.renderOutput(dataTable, element);\n",
              "        const docLink = document.createElement('div');\n",
              "        docLink.innerHTML = docLinkHtml;\n",
              "        element.appendChild(docLink);\n",
              "      }\n",
              "    </script>\n",
              "  </div>\n",
              "\n",
              "\n",
              "    <div id=\"df-724b97a6-f4be-4f3b-b714-83c9e564ba48\">\n",
              "      <button class=\"colab-df-quickchart\" onclick=\"quickchart('df-724b97a6-f4be-4f3b-b714-83c9e564ba48')\"\n",
              "                title=\"Suggest charts\"\n",
              "                style=\"display:none;\">\n",
              "\n",
              "<svg xmlns=\"http://www.w3.org/2000/svg\" height=\"24px\"viewBox=\"0 0 24 24\"\n",
              "     width=\"24px\">\n",
              "    <g>\n",
              "        <path d=\"M19 3H5c-1.1 0-2 .9-2 2v14c0 1.1.9 2 2 2h14c1.1 0 2-.9 2-2V5c0-1.1-.9-2-2-2zM9 17H7v-7h2v7zm4 0h-2V7h2v10zm4 0h-2v-4h2v4z\"/>\n",
              "    </g>\n",
              "</svg>\n",
              "      </button>\n",
              "\n",
              "<style>\n",
              "  .colab-df-quickchart {\n",
              "      --bg-color: #E8F0FE;\n",
              "      --fill-color: #1967D2;\n",
              "      --hover-bg-color: #E2EBFA;\n",
              "      --hover-fill-color: #174EA6;\n",
              "      --disabled-fill-color: #AAA;\n",
              "      --disabled-bg-color: #DDD;\n",
              "  }\n",
              "\n",
              "  [theme=dark] .colab-df-quickchart {\n",
              "      --bg-color: #3B4455;\n",
              "      --fill-color: #D2E3FC;\n",
              "      --hover-bg-color: #434B5C;\n",
              "      --hover-fill-color: #FFFFFF;\n",
              "      --disabled-bg-color: #3B4455;\n",
              "      --disabled-fill-color: #666;\n",
              "  }\n",
              "\n",
              "  .colab-df-quickchart {\n",
              "    background-color: var(--bg-color);\n",
              "    border: none;\n",
              "    border-radius: 50%;\n",
              "    cursor: pointer;\n",
              "    display: none;\n",
              "    fill: var(--fill-color);\n",
              "    height: 32px;\n",
              "    padding: 0;\n",
              "    width: 32px;\n",
              "  }\n",
              "\n",
              "  .colab-df-quickchart:hover {\n",
              "    background-color: var(--hover-bg-color);\n",
              "    box-shadow: 0 1px 2px rgba(60, 64, 67, 0.3), 0 1px 3px 1px rgba(60, 64, 67, 0.15);\n",
              "    fill: var(--button-hover-fill-color);\n",
              "  }\n",
              "\n",
              "  .colab-df-quickchart-complete:disabled,\n",
              "  .colab-df-quickchart-complete:disabled:hover {\n",
              "    background-color: var(--disabled-bg-color);\n",
              "    fill: var(--disabled-fill-color);\n",
              "    box-shadow: none;\n",
              "  }\n",
              "\n",
              "  .colab-df-spinner {\n",
              "    border: 2px solid var(--fill-color);\n",
              "    border-color: transparent;\n",
              "    border-bottom-color: var(--fill-color);\n",
              "    animation:\n",
              "      spin 1s steps(1) infinite;\n",
              "  }\n",
              "\n",
              "  @keyframes spin {\n",
              "    0% {\n",
              "      border-color: transparent;\n",
              "      border-bottom-color: var(--fill-color);\n",
              "      border-left-color: var(--fill-color);\n",
              "    }\n",
              "    20% {\n",
              "      border-color: transparent;\n",
              "      border-left-color: var(--fill-color);\n",
              "      border-top-color: var(--fill-color);\n",
              "    }\n",
              "    30% {\n",
              "      border-color: transparent;\n",
              "      border-left-color: var(--fill-color);\n",
              "      border-top-color: var(--fill-color);\n",
              "      border-right-color: var(--fill-color);\n",
              "    }\n",
              "    40% {\n",
              "      border-color: transparent;\n",
              "      border-right-color: var(--fill-color);\n",
              "      border-top-color: var(--fill-color);\n",
              "    }\n",
              "    60% {\n",
              "      border-color: transparent;\n",
              "      border-right-color: var(--fill-color);\n",
              "    }\n",
              "    80% {\n",
              "      border-color: transparent;\n",
              "      border-right-color: var(--fill-color);\n",
              "      border-bottom-color: var(--fill-color);\n",
              "    }\n",
              "    90% {\n",
              "      border-color: transparent;\n",
              "      border-bottom-color: var(--fill-color);\n",
              "    }\n",
              "  }\n",
              "</style>\n",
              "\n",
              "      <script>\n",
              "        async function quickchart(key) {\n",
              "          const quickchartButtonEl =\n",
              "            document.querySelector('#' + key + ' button');\n",
              "          quickchartButtonEl.disabled = true;  // To prevent multiple clicks.\n",
              "          quickchartButtonEl.classList.add('colab-df-spinner');\n",
              "          try {\n",
              "            const charts = await google.colab.kernel.invokeFunction(\n",
              "                'suggestCharts', [key], {});\n",
              "          } catch (error) {\n",
              "            console.error('Error during call to suggestCharts:', error);\n",
              "          }\n",
              "          quickchartButtonEl.classList.remove('colab-df-spinner');\n",
              "          quickchartButtonEl.classList.add('colab-df-quickchart-complete');\n",
              "        }\n",
              "        (() => {\n",
              "          let quickchartButtonEl =\n",
              "            document.querySelector('#df-724b97a6-f4be-4f3b-b714-83c9e564ba48 button');\n",
              "          quickchartButtonEl.style.display =\n",
              "            google.colab.kernel.accessAllowed ? 'block' : 'none';\n",
              "        })();\n",
              "      </script>\n",
              "    </div>\n",
              "\n",
              "    </div>\n",
              "  </div>\n"
            ],
            "application/vnd.google.colaboratory.intrinsic+json": {
              "type": "dataframe",
              "variable_name": "df_full",
              "summary": "{\n  \"name\": \"df_full\",\n  \"rows\": 60,\n  \"fields\": [\n    {\n      \"column\": \"campaign_name\",\n      \"properties\": {\n        \"dtype\": \"category\",\n        \"num_unique_values\": 2,\n        \"samples\": [\n          \"Control Campaign\",\n          \"Test Campaign\"\n        ],\n        \"semantic_type\": \"\",\n        \"description\": \"\"\n      }\n    },\n    {\n      \"column\": \"date\",\n      \"properties\": {\n        \"dtype\": \"date\",\n        \"min\": \"2019-08-01 00:00:00\",\n        \"max\": \"2019-08-30 00:00:00\",\n        \"num_unique_values\": 30,\n        \"samples\": [\n          \"2019-08-28 00:00:00\",\n          \"2019-08-16 00:00:00\"\n        ],\n        \"semantic_type\": \"\",\n        \"description\": \"\"\n      }\n    },\n    {\n      \"column\": \"spend_[usd]\",\n      \"properties\": {\n        \"dtype\": \"number\",\n        \"std\": 381,\n        \"min\": 1757,\n        \"max\": 3112,\n        \"num_unique_values\": 60,\n        \"samples\": [\n          3008,\n          2458\n        ],\n        \"semantic_type\": \"\",\n        \"description\": \"\"\n      }\n    },\n    {\n      \"column\": \"#_of_impressions\",\n      \"properties\": {\n        \"dtype\": \"number\",\n        \"std\": 32465.070636250206,\n        \"min\": 22521.0,\n        \"max\": 145248.0,\n        \"num_unique_values\": 59,\n        \"samples\": [\n          39550.0,\n          42684.0\n        ],\n        \"semantic_type\": \"\",\n        \"description\": \"\"\n      }\n    },\n    {\n      \"column\": \"reach\",\n      \"properties\": {\n        \"dtype\": \"number\",\n        \"std\": 31023.65351534364,\n        \"min\": 10598.0,\n        \"max\": 127852.0,\n        \"num_unique_values\": 59,\n        \"samples\": [\n          35820.0,\n          31489.0\n        ],\n        \"semantic_type\": \"\",\n        \"description\": \"\"\n      }\n    },\n    {\n      \"column\": \"#_of_website_clicks\",\n      \"properties\": {\n        \"dtype\": \"number\",\n        \"std\": 1754.7775585393279,\n        \"min\": 2277.0,\n        \"max\": 8264.0,\n        \"num_unique_values\": 59,\n        \"samples\": [\n          3038.0,\n          7488.0\n        ],\n        \"semantic_type\": \"\",\n        \"description\": \"\"\n      }\n    },\n    {\n      \"column\": \"#_of_searches\",\n      \"properties\": {\n        \"dtype\": \"number\",\n        \"std\": 669.0405759195536,\n        \"min\": 1001.0,\n        \"max\": 4891.0,\n        \"num_unique_values\": 58,\n        \"samples\": [\n          1946.0,\n          1854.0\n        ],\n        \"semantic_type\": \"\",\n        \"description\": \"\"\n      }\n    },\n    {\n      \"column\": \"#_of_view_content\",\n      \"properties\": {\n        \"dtype\": \"number\",\n        \"std\": 687.2638441435563,\n        \"min\": 848.0,\n        \"max\": 4219.0,\n        \"num_unique_values\": 56,\n        \"samples\": [\n          1069.0,\n          1073.0\n        ],\n        \"semantic_type\": \"\",\n        \"description\": \"\"\n      }\n    },\n    {\n      \"column\": \"#_of_add_to_cart\",\n      \"properties\": {\n        \"dtype\": \"number\",\n        \"std\": 430.2052464370373,\n        \"min\": 278.0,\n        \"max\": 1913.0,\n        \"num_unique_values\": 59,\n        \"samples\": [\n          894.0,\n          882.0\n        ],\n        \"semantic_type\": \"\",\n        \"description\": \"\"\n      }\n    },\n    {\n      \"column\": \"#_of_purchase\",\n      \"properties\": {\n        \"dtype\": \"number\",\n        \"std\": 196.97391740515047,\n        \"min\": 222.0,\n        \"max\": 890.0,\n        \"num_unique_values\": 55,\n        \"samples\": [\n          764.0,\n          488.0\n        ],\n        \"semantic_type\": \"\",\n        \"description\": \"\"\n      }\n    }\n  ]\n}"
            }
          },
          "metadata": {},
          "execution_count": 61
        }
      ]
    },
    {
      "cell_type": "markdown",
      "source": [
        "###CHECK NULLS"
      ],
      "metadata": {
        "id": "--08eRQPSRrg"
      }
    },
    {
      "cell_type": "code",
      "source": [
        "#Check for nan values\n",
        "df_full.isna().sum()"
      ],
      "metadata": {
        "colab": {
          "base_uri": "https://localhost:8080/",
          "height": 398
        },
        "id": "XTHsAEEcST5r",
        "outputId": "3a238811-1d89-4890-f68b-9e1ddd460b78"
      },
      "execution_count": 62,
      "outputs": [
        {
          "output_type": "execute_result",
          "data": {
            "text/plain": [
              "campaign_name          0\n",
              "date                   0\n",
              "spend_[usd]            0\n",
              "#_of_impressions       1\n",
              "reach                  1\n",
              "#_of_website_clicks    1\n",
              "#_of_searches          1\n",
              "#_of_view_content      1\n",
              "#_of_add_to_cart       1\n",
              "#_of_purchase          1\n",
              "dtype: int64"
            ],
            "text/html": [
              "<div>\n",
              "<style scoped>\n",
              "    .dataframe tbody tr th:only-of-type {\n",
              "        vertical-align: middle;\n",
              "    }\n",
              "\n",
              "    .dataframe tbody tr th {\n",
              "        vertical-align: top;\n",
              "    }\n",
              "\n",
              "    .dataframe thead th {\n",
              "        text-align: right;\n",
              "    }\n",
              "</style>\n",
              "<table border=\"1\" class=\"dataframe\">\n",
              "  <thead>\n",
              "    <tr style=\"text-align: right;\">\n",
              "      <th></th>\n",
              "      <th>0</th>\n",
              "    </tr>\n",
              "  </thead>\n",
              "  <tbody>\n",
              "    <tr>\n",
              "      <th>campaign_name</th>\n",
              "      <td>0</td>\n",
              "    </tr>\n",
              "    <tr>\n",
              "      <th>date</th>\n",
              "      <td>0</td>\n",
              "    </tr>\n",
              "    <tr>\n",
              "      <th>spend_[usd]</th>\n",
              "      <td>0</td>\n",
              "    </tr>\n",
              "    <tr>\n",
              "      <th>#_of_impressions</th>\n",
              "      <td>1</td>\n",
              "    </tr>\n",
              "    <tr>\n",
              "      <th>reach</th>\n",
              "      <td>1</td>\n",
              "    </tr>\n",
              "    <tr>\n",
              "      <th>#_of_website_clicks</th>\n",
              "      <td>1</td>\n",
              "    </tr>\n",
              "    <tr>\n",
              "      <th>#_of_searches</th>\n",
              "      <td>1</td>\n",
              "    </tr>\n",
              "    <tr>\n",
              "      <th>#_of_view_content</th>\n",
              "      <td>1</td>\n",
              "    </tr>\n",
              "    <tr>\n",
              "      <th>#_of_add_to_cart</th>\n",
              "      <td>1</td>\n",
              "    </tr>\n",
              "    <tr>\n",
              "      <th>#_of_purchase</th>\n",
              "      <td>1</td>\n",
              "    </tr>\n",
              "  </tbody>\n",
              "</table>\n",
              "</div><br><label><b>dtype:</b> int64</label>"
            ]
          },
          "metadata": {},
          "execution_count": 62
        }
      ]
    },
    {
      "cell_type": "code",
      "source": [
        "#Check null values\n",
        "df_full[df_full.isna().any(axis=1)]"
      ],
      "metadata": {
        "colab": {
          "base_uri": "https://localhost:8080/",
          "height": 81
        },
        "id": "HqR9Wc3JSbKn",
        "outputId": "429e2f78-0932-45bf-8b99-110694618269"
      },
      "execution_count": 63,
      "outputs": [
        {
          "output_type": "execute_result",
          "data": {
            "text/plain": [
              "      campaign_name       date  spend_[usd]  #_of_impressions  reach  \\\n",
              "4  Control Campaign 2019-08-05         1835               NaN    NaN   \n",
              "\n",
              "   #_of_website_clicks  #_of_searches  #_of_view_content  #_of_add_to_cart  \\\n",
              "4                  NaN            NaN                NaN               NaN   \n",
              "\n",
              "   #_of_purchase  \n",
              "4            NaN  "
            ],
            "text/html": [
              "\n",
              "  <div id=\"df-134ddb75-7d5c-4827-8eda-5a6204288718\" class=\"colab-df-container\">\n",
              "    <div>\n",
              "<style scoped>\n",
              "    .dataframe tbody tr th:only-of-type {\n",
              "        vertical-align: middle;\n",
              "    }\n",
              "\n",
              "    .dataframe tbody tr th {\n",
              "        vertical-align: top;\n",
              "    }\n",
              "\n",
              "    .dataframe thead th {\n",
              "        text-align: right;\n",
              "    }\n",
              "</style>\n",
              "<table border=\"1\" class=\"dataframe\">\n",
              "  <thead>\n",
              "    <tr style=\"text-align: right;\">\n",
              "      <th></th>\n",
              "      <th>campaign_name</th>\n",
              "      <th>date</th>\n",
              "      <th>spend_[usd]</th>\n",
              "      <th>#_of_impressions</th>\n",
              "      <th>reach</th>\n",
              "      <th>#_of_website_clicks</th>\n",
              "      <th>#_of_searches</th>\n",
              "      <th>#_of_view_content</th>\n",
              "      <th>#_of_add_to_cart</th>\n",
              "      <th>#_of_purchase</th>\n",
              "    </tr>\n",
              "  </thead>\n",
              "  <tbody>\n",
              "    <tr>\n",
              "      <th>4</th>\n",
              "      <td>Control Campaign</td>\n",
              "      <td>2019-08-05</td>\n",
              "      <td>1835</td>\n",
              "      <td>NaN</td>\n",
              "      <td>NaN</td>\n",
              "      <td>NaN</td>\n",
              "      <td>NaN</td>\n",
              "      <td>NaN</td>\n",
              "      <td>NaN</td>\n",
              "      <td>NaN</td>\n",
              "    </tr>\n",
              "  </tbody>\n",
              "</table>\n",
              "</div>\n",
              "    <div class=\"colab-df-buttons\">\n",
              "\n",
              "  <div class=\"colab-df-container\">\n",
              "    <button class=\"colab-df-convert\" onclick=\"convertToInteractive('df-134ddb75-7d5c-4827-8eda-5a6204288718')\"\n",
              "            title=\"Convert this dataframe to an interactive table.\"\n",
              "            style=\"display:none;\">\n",
              "\n",
              "  <svg xmlns=\"http://www.w3.org/2000/svg\" height=\"24px\" viewBox=\"0 -960 960 960\">\n",
              "    <path d=\"M120-120v-720h720v720H120Zm60-500h600v-160H180v160Zm220 220h160v-160H400v160Zm0 220h160v-160H400v160ZM180-400h160v-160H180v160Zm440 0h160v-160H620v160ZM180-180h160v-160H180v160Zm440 0h160v-160H620v160Z\"/>\n",
              "  </svg>\n",
              "    </button>\n",
              "\n",
              "  <style>\n",
              "    .colab-df-container {\n",
              "      display:flex;\n",
              "      gap: 12px;\n",
              "    }\n",
              "\n",
              "    .colab-df-convert {\n",
              "      background-color: #E8F0FE;\n",
              "      border: none;\n",
              "      border-radius: 50%;\n",
              "      cursor: pointer;\n",
              "      display: none;\n",
              "      fill: #1967D2;\n",
              "      height: 32px;\n",
              "      padding: 0 0 0 0;\n",
              "      width: 32px;\n",
              "    }\n",
              "\n",
              "    .colab-df-convert:hover {\n",
              "      background-color: #E2EBFA;\n",
              "      box-shadow: 0px 1px 2px rgba(60, 64, 67, 0.3), 0px 1px 3px 1px rgba(60, 64, 67, 0.15);\n",
              "      fill: #174EA6;\n",
              "    }\n",
              "\n",
              "    .colab-df-buttons div {\n",
              "      margin-bottom: 4px;\n",
              "    }\n",
              "\n",
              "    [theme=dark] .colab-df-convert {\n",
              "      background-color: #3B4455;\n",
              "      fill: #D2E3FC;\n",
              "    }\n",
              "\n",
              "    [theme=dark] .colab-df-convert:hover {\n",
              "      background-color: #434B5C;\n",
              "      box-shadow: 0px 1px 3px 1px rgba(0, 0, 0, 0.15);\n",
              "      filter: drop-shadow(0px 1px 2px rgba(0, 0, 0, 0.3));\n",
              "      fill: #FFFFFF;\n",
              "    }\n",
              "  </style>\n",
              "\n",
              "    <script>\n",
              "      const buttonEl =\n",
              "        document.querySelector('#df-134ddb75-7d5c-4827-8eda-5a6204288718 button.colab-df-convert');\n",
              "      buttonEl.style.display =\n",
              "        google.colab.kernel.accessAllowed ? 'block' : 'none';\n",
              "\n",
              "      async function convertToInteractive(key) {\n",
              "        const element = document.querySelector('#df-134ddb75-7d5c-4827-8eda-5a6204288718');\n",
              "        const dataTable =\n",
              "          await google.colab.kernel.invokeFunction('convertToInteractive',\n",
              "                                                    [key], {});\n",
              "        if (!dataTable) return;\n",
              "\n",
              "        const docLinkHtml = 'Like what you see? Visit the ' +\n",
              "          '<a target=\"_blank\" href=https://colab.research.google.com/notebooks/data_table.ipynb>data table notebook</a>'\n",
              "          + ' to learn more about interactive tables.';\n",
              "        element.innerHTML = '';\n",
              "        dataTable['output_type'] = 'display_data';\n",
              "        await google.colab.output.renderOutput(dataTable, element);\n",
              "        const docLink = document.createElement('div');\n",
              "        docLink.innerHTML = docLinkHtml;\n",
              "        element.appendChild(docLink);\n",
              "      }\n",
              "    </script>\n",
              "  </div>\n",
              "\n",
              "\n",
              "    </div>\n",
              "  </div>\n"
            ],
            "application/vnd.google.colaboratory.intrinsic+json": {
              "type": "dataframe",
              "summary": "{\n  \"name\": \"df_full[df_full\",\n  \"rows\": 1,\n  \"fields\": [\n    {\n      \"column\": \"campaign_name\",\n      \"properties\": {\n        \"dtype\": \"string\",\n        \"num_unique_values\": 1,\n        \"samples\": [\n          \"Control Campaign\"\n        ],\n        \"semantic_type\": \"\",\n        \"description\": \"\"\n      }\n    },\n    {\n      \"column\": \"date\",\n      \"properties\": {\n        \"dtype\": \"date\",\n        \"min\": \"2019-08-05 00:00:00\",\n        \"max\": \"2019-08-05 00:00:00\",\n        \"num_unique_values\": 1,\n        \"samples\": [\n          \"2019-08-05 00:00:00\"\n        ],\n        \"semantic_type\": \"\",\n        \"description\": \"\"\n      }\n    },\n    {\n      \"column\": \"spend_[usd]\",\n      \"properties\": {\n        \"dtype\": \"number\",\n        \"std\": null,\n        \"min\": 1835,\n        \"max\": 1835,\n        \"num_unique_values\": 1,\n        \"samples\": [\n          1835\n        ],\n        \"semantic_type\": \"\",\n        \"description\": \"\"\n      }\n    },\n    {\n      \"column\": \"#_of_impressions\",\n      \"properties\": {\n        \"dtype\": \"number\",\n        \"std\": null,\n        \"min\": null,\n        \"max\": null,\n        \"num_unique_values\": 0,\n        \"samples\": [],\n        \"semantic_type\": \"\",\n        \"description\": \"\"\n      }\n    },\n    {\n      \"column\": \"reach\",\n      \"properties\": {\n        \"dtype\": \"number\",\n        \"std\": null,\n        \"min\": null,\n        \"max\": null,\n        \"num_unique_values\": 0,\n        \"samples\": [],\n        \"semantic_type\": \"\",\n        \"description\": \"\"\n      }\n    },\n    {\n      \"column\": \"#_of_website_clicks\",\n      \"properties\": {\n        \"dtype\": \"number\",\n        \"std\": null,\n        \"min\": null,\n        \"max\": null,\n        \"num_unique_values\": 0,\n        \"samples\": [],\n        \"semantic_type\": \"\",\n        \"description\": \"\"\n      }\n    },\n    {\n      \"column\": \"#_of_searches\",\n      \"properties\": {\n        \"dtype\": \"number\",\n        \"std\": null,\n        \"min\": null,\n        \"max\": null,\n        \"num_unique_values\": 0,\n        \"samples\": [],\n        \"semantic_type\": \"\",\n        \"description\": \"\"\n      }\n    },\n    {\n      \"column\": \"#_of_view_content\",\n      \"properties\": {\n        \"dtype\": \"number\",\n        \"std\": null,\n        \"min\": null,\n        \"max\": null,\n        \"num_unique_values\": 0,\n        \"samples\": [],\n        \"semantic_type\": \"\",\n        \"description\": \"\"\n      }\n    },\n    {\n      \"column\": \"#_of_add_to_cart\",\n      \"properties\": {\n        \"dtype\": \"number\",\n        \"std\": null,\n        \"min\": null,\n        \"max\": null,\n        \"num_unique_values\": 0,\n        \"samples\": [],\n        \"semantic_type\": \"\",\n        \"description\": \"\"\n      }\n    },\n    {\n      \"column\": \"#_of_purchase\",\n      \"properties\": {\n        \"dtype\": \"number\",\n        \"std\": null,\n        \"min\": null,\n        \"max\": null,\n        \"num_unique_values\": 0,\n        \"samples\": [],\n        \"semantic_type\": \"\",\n        \"description\": \"\"\n      }\n    }\n  ]\n}"
            }
          },
          "metadata": {},
          "execution_count": 63
        }
      ]
    },
    {
      "cell_type": "markdown",
      "source": [
        "Becasue all of the null values are in one campaign, it makes the data unusable. I will drop it."
      ],
      "metadata": {
        "id": "kfVduRcESh5a"
      }
    },
    {
      "cell_type": "code",
      "source": [
        "# Drop nulls\n",
        "df_full = df_full.dropna()"
      ],
      "metadata": {
        "id": "Wm9sJZLLSwKa"
      },
      "execution_count": 64,
      "outputs": []
    },
    {
      "cell_type": "markdown",
      "source": [
        "###FEATURE CREATION"
      ],
      "metadata": {
        "id": "i6gCx7hAdI1T"
      }
    },
    {
      "cell_type": "code",
      "source": [
        "# Return on Investment\n",
        "df_full['ROI'] = df_full['spend_[usd]']/df_full['#_of_purchase']\n",
        "# Click through rate\n",
        "df_full['CTR'] = df_full['#_of_website_clicks']/df_full['#_of_impressions']\n",
        "# Purchase Rate\n",
        "df_full['PR'] = df_full['#_of_purchase']/df_full['#_of_impressions']\n"
      ],
      "metadata": {
        "id": "p2-_OMTGdNAz"
      },
      "execution_count": null,
      "outputs": []
    },
    {
      "cell_type": "markdown",
      "source": [
        "###EDA & VISUALIZATIONS"
      ],
      "metadata": {
        "id": "U4LgIpPeTmpq"
      }
    },
    {
      "cell_type": "markdown",
      "source": [
        "Making sure the campaigns are even"
      ],
      "metadata": {
        "id": "2TZIdQWVggoT"
      }
    },
    {
      "cell_type": "code",
      "source": [
        "# Number of campaigns by name\n",
        "df_full['campaign_name'].value_counts()"
      ],
      "metadata": {
        "colab": {
          "base_uri": "https://localhost:8080/",
          "height": 178
        },
        "id": "ZxYsgN6kfSdP",
        "outputId": "6eaac3b6-3b1d-4820-bff6-4a3dcae3568b"
      },
      "execution_count": 80,
      "outputs": [
        {
          "output_type": "execute_result",
          "data": {
            "text/plain": [
              "campaign_name\n",
              "Test Campaign       30\n",
              "Control Campaign    29\n",
              "Name: count, dtype: int64"
            ],
            "text/html": [
              "<div>\n",
              "<style scoped>\n",
              "    .dataframe tbody tr th:only-of-type {\n",
              "        vertical-align: middle;\n",
              "    }\n",
              "\n",
              "    .dataframe tbody tr th {\n",
              "        vertical-align: top;\n",
              "    }\n",
              "\n",
              "    .dataframe thead th {\n",
              "        text-align: right;\n",
              "    }\n",
              "</style>\n",
              "<table border=\"1\" class=\"dataframe\">\n",
              "  <thead>\n",
              "    <tr style=\"text-align: right;\">\n",
              "      <th></th>\n",
              "      <th>count</th>\n",
              "    </tr>\n",
              "    <tr>\n",
              "      <th>campaign_name</th>\n",
              "      <th></th>\n",
              "    </tr>\n",
              "  </thead>\n",
              "  <tbody>\n",
              "    <tr>\n",
              "      <th>Test Campaign</th>\n",
              "      <td>30</td>\n",
              "    </tr>\n",
              "    <tr>\n",
              "      <th>Control Campaign</th>\n",
              "      <td>29</td>\n",
              "    </tr>\n",
              "  </tbody>\n",
              "</table>\n",
              "</div><br><label><b>dtype:</b> int64</label>"
            ]
          },
          "metadata": {},
          "execution_count": 80
        }
      ]
    },
    {
      "cell_type": "code",
      "source": [
        "# Hist\n",
        "df_full.hist(figsize=(15,15))\n",
        "plt.show()"
      ],
      "metadata": {
        "colab": {
          "base_uri": "https://localhost:8080/",
          "height": 1000
        },
        "id": "J8s2UPlGglV0",
        "outputId": "c5ace85d-1950-4671-9d56-f76950277cd7"
      },
      "execution_count": 81,
      "outputs": [
        {
          "output_type": "display_data",
          "data": {
            "text/plain": [
              "<Figure size 1500x1500 with 12 Axes>"
            ],
            "image/png": "[encoded data removed]"
          },
          "metadata": {}
        }
      ]
    },
    {
      "cell_type": "markdown",
      "source": [
        "Let's compare the two campaigns"
      ],
      "metadata": {
        "id": "Xk1L50IXguoZ"
      }
    },
    {
      "cell_type": "code",
      "source": [
        "# Viz spend_[usd] by campaign_name\n",
        "df_full.groupby('campaign_name')['spend_[usd]'].sum().plot(kind='bar')\n",
        "plt.title('Spend by Campaign')\n",
        "plt.xlabel('Campaign Name')\n",
        "plt.xticks(rotation=45)\n",
        "plt.ylabel('Total Spend')\n",
        "plt.show()"
      ],
      "metadata": {
        "colab": {
          "base_uri": "https://localhost:8080/",
          "height": 556
        },
        "id": "R13KqvB7UDSp",
        "outputId": "da4b02fe-79df-4c8d-a4a0-2237f2afa7f9"
      },
      "execution_count": 65,
      "outputs": [
        {
          "output_type": "display_data",
          "data": {
            "text/plain": [
              "<Figure size 640x480 with 1 Axes>"
            ],
            "image/png": "[encoded data removed]"
          },
          "metadata": {}
        }
      ]
    },
    {
      "cell_type": "code",
      "source": [
        "# Viz reach by campaign_name\n",
        "df_full.groupby('campaign_name')['reach'].sum().plot(kind='bar')\n",
        "plt.title('Reach by Campaign')\n",
        "plt.xlabel('Campaign Name')\n",
        "plt.xticks(rotation=45)\n",
        "plt.ylabel('Total Reach')\n",
        "plt.show()"
      ],
      "metadata": {
        "colab": {
          "base_uri": "https://localhost:8080/",
          "height": 556
        },
        "id": "BEAs15UoUQBv",
        "outputId": "4f20957a-962d-4337-9342-c353ca25064c"
      },
      "execution_count": 66,
      "outputs": [
        {
          "output_type": "display_data",
          "data": {
            "text/plain": [
              "<Figure size 640x480 with 1 Axes>"
            ],
            "image/png": "[encoded data removed]"
          },
          "metadata": {}
        }
      ]
    },
    {
      "cell_type": "markdown",
      "source": [
        "We're already seeing that despite the higher spend, the reach on the Test Campaign is much less than the Control Campaign."
      ],
      "metadata": {
        "id": "Z-eae2y7UbOF"
      }
    },
    {
      "cell_type": "markdown",
      "source": [
        "Let's check what portion of the total spent went to each campaign."
      ],
      "metadata": {
        "id": "ZhN1fG5cX22N"
      }
    },
    {
      "cell_type": "code",
      "source": [
        "# spend_[usd] by campaign_name by percent\n",
        "df_full.groupby('campaign_name')['spend_[usd]'].sum()/df_full['spend_[usd]'].sum().sum()*100"
      ],
      "metadata": {
        "colab": {
          "base_uri": "https://localhost:8080/",
          "height": 178
        },
        "id": "9B9BsB3pTmU5",
        "outputId": "4df1c308-b5c4-4697-cbe2-3507458ace59"
      },
      "execution_count": 67,
      "outputs": [
        {
          "output_type": "execute_result",
          "data": {
            "text/plain": [
              "campaign_name\n",
              "Control Campaign    46.495025\n",
              "Test Campaign       53.504975\n",
              "Name: spend_[usd], dtype: float64"
            ],
            "text/html": [
              "<div>\n",
              "<style scoped>\n",
              "    .dataframe tbody tr th:only-of-type {\n",
              "        vertical-align: middle;\n",
              "    }\n",
              "\n",
              "    .dataframe tbody tr th {\n",
              "        vertical-align: top;\n",
              "    }\n",
              "\n",
              "    .dataframe thead th {\n",
              "        text-align: right;\n",
              "    }\n",
              "</style>\n",
              "<table border=\"1\" class=\"dataframe\">\n",
              "  <thead>\n",
              "    <tr style=\"text-align: right;\">\n",
              "      <th></th>\n",
              "      <th>spend_[usd]</th>\n",
              "    </tr>\n",
              "    <tr>\n",
              "      <th>campaign_name</th>\n",
              "      <th></th>\n",
              "    </tr>\n",
              "  </thead>\n",
              "  <tbody>\n",
              "    <tr>\n",
              "      <th>Control Campaign</th>\n",
              "      <td>46.495025</td>\n",
              "    </tr>\n",
              "    <tr>\n",
              "      <th>Test Campaign</th>\n",
              "      <td>53.504975</td>\n",
              "    </tr>\n",
              "  </tbody>\n",
              "</table>\n",
              "</div><br><label><b>dtype:</b> float64</label>"
            ]
          },
          "metadata": {},
          "execution_count": 67
        }
      ]
    },
    {
      "cell_type": "code",
      "source": [
        "# Viz Number of purchases by campaign\n",
        "df_full.groupby('campaign_name')['#_of_purchase'].sum().plot(kind='bar')\n",
        "plt.title('Number of Purchases by Campaign')\n",
        "plt.xlabel('Campaign Name')\n",
        "plt.xticks(rotation=45)\n",
        "plt.ylabel('Total Number of Purchases')\n",
        "plt.show()"
      ],
      "metadata": {
        "colab": {
          "base_uri": "https://localhost:8080/",
          "height": 556
        },
        "id": "BUTSm-oXX-TX",
        "outputId": "0acfb0d5-9162-4d64-dfcf-2763ecd3516f"
      },
      "execution_count": 71,
      "outputs": [
        {
          "output_type": "display_data",
          "data": {
            "text/plain": [
              "<Figure size 640x480 with 1 Axes>"
            ],
            "image/png": "[encoded data removed]"
          },
          "metadata": {}
        }
      ]
    },
    {
      "cell_type": "code",
      "source": [
        "# purchases by campaign\n",
        "df_full.groupby('campaign_name')['#_of_purchase'].sum()"
      ],
      "metadata": {
        "colab": {
          "base_uri": "https://localhost:8080/",
          "height": 178
        },
        "id": "xOX2VAMZmfLT",
        "outputId": "12ad82f9-0f5c-4579-d759-e5a460a871af"
      },
      "execution_count": 108,
      "outputs": [
        {
          "output_type": "execute_result",
          "data": {
            "text/plain": [
              "campaign_name\n",
              "Control Campaign    15161.0\n",
              "Test Campaign       15637.0\n",
              "Name: #_of_purchase, dtype: float64"
            ],
            "text/html": [
              "<div>\n",
              "<style scoped>\n",
              "    .dataframe tbody tr th:only-of-type {\n",
              "        vertical-align: middle;\n",
              "    }\n",
              "\n",
              "    .dataframe tbody tr th {\n",
              "        vertical-align: top;\n",
              "    }\n",
              "\n",
              "    .dataframe thead th {\n",
              "        text-align: right;\n",
              "    }\n",
              "</style>\n",
              "<table border=\"1\" class=\"dataframe\">\n",
              "  <thead>\n",
              "    <tr style=\"text-align: right;\">\n",
              "      <th></th>\n",
              "      <th>#_of_purchase</th>\n",
              "    </tr>\n",
              "    <tr>\n",
              "      <th>campaign_name</th>\n",
              "      <th></th>\n",
              "    </tr>\n",
              "  </thead>\n",
              "  <tbody>\n",
              "    <tr>\n",
              "      <th>Control Campaign</th>\n",
              "      <td>15161.0</td>\n",
              "    </tr>\n",
              "    <tr>\n",
              "      <th>Test Campaign</th>\n",
              "      <td>15637.0</td>\n",
              "    </tr>\n",
              "  </tbody>\n",
              "</table>\n",
              "</div><br><label><b>dtype:</b> float64</label>"
            ]
          },
          "metadata": {},
          "execution_count": 108
        }
      ]
    },
    {
      "cell_type": "code",
      "source": [
        "# Viz PR by Campaign\n",
        "df_full.groupby('campaign_name')['PR'].mean().plot(kind='bar')\n",
        "plt.title('Purchase Rate by Campaign')\n",
        "plt.xlabel('Campaign Name')\n",
        "plt.xticks(rotation=45)\n",
        "plt.ylabel('Purchase Rate')\n",
        "plt.show()"
      ],
      "metadata": {
        "colab": {
          "base_uri": "https://localhost:8080/",
          "height": 556
        },
        "id": "dFSoJb0qepGp",
        "outputId": "e70c17e6-112f-4ac2-9ddb-adf9339e9ab3"
      },
      "execution_count": 110,
      "outputs": [
        {
          "output_type": "display_data",
          "data": {
            "text/plain": [
              "<Figure size 640x480 with 1 Axes>"
            ],
            "image/png": "[encoded data removed]"
          },
          "metadata": {}
        }
      ]
    },
    {
      "cell_type": "markdown",
      "source": [
        "Here is where the Test Campaign is shining, though the reach was lower it ended up outselling the Control Campaign!\n",
        "\n",
        "Lets check the ROI feature I created"
      ],
      "metadata": {
        "id": "CtcD0exKYtXK"
      }
    },
    {
      "cell_type": "code",
      "source": [
        "# ROI\n",
        "df_full.groupby('campaign_name')['ROI'].mean()"
      ],
      "metadata": {
        "colab": {
          "base_uri": "https://localhost:8080/",
          "height": 178
        },
        "id": "oc603M8hYrIJ",
        "outputId": "cdf6c184-eb06-4016-89e5-0621b9cd7213"
      },
      "execution_count": 74,
      "outputs": [
        {
          "output_type": "execute_result",
          "data": {
            "text/plain": [
              "campaign_name\n",
              "Control Campaign    5.052339\n",
              "Test Campaign       5.899589\n",
              "Name: ROI, dtype: float64"
            ],
            "text/html": [
              "<div>\n",
              "<style scoped>\n",
              "    .dataframe tbody tr th:only-of-type {\n",
              "        vertical-align: middle;\n",
              "    }\n",
              "\n",
              "    .dataframe tbody tr th {\n",
              "        vertical-align: top;\n",
              "    }\n",
              "\n",
              "    .dataframe thead th {\n",
              "        text-align: right;\n",
              "    }\n",
              "</style>\n",
              "<table border=\"1\" class=\"dataframe\">\n",
              "  <thead>\n",
              "    <tr style=\"text-align: right;\">\n",
              "      <th></th>\n",
              "      <th>ROI</th>\n",
              "    </tr>\n",
              "    <tr>\n",
              "      <th>campaign_name</th>\n",
              "      <th></th>\n",
              "    </tr>\n",
              "  </thead>\n",
              "  <tbody>\n",
              "    <tr>\n",
              "      <th>Control Campaign</th>\n",
              "      <td>5.052339</td>\n",
              "    </tr>\n",
              "    <tr>\n",
              "      <th>Test Campaign</th>\n",
              "      <td>5.899589</td>\n",
              "    </tr>\n",
              "  </tbody>\n",
              "</table>\n",
              "</div><br><label><b>dtype:</b> float64</label>"
            ]
          },
          "metadata": {},
          "execution_count": 74
        }
      ]
    },
    {
      "cell_type": "code",
      "source": [
        "# ROI Viz\n",
        "df_full.groupby('campaign_name')['ROI'].mean().plot(kind='bar')\n",
        "plt.title('ROI by Campaign')\n",
        "plt.xlabel('Campaign Name')\n",
        "plt.xticks(rotation=45)\n",
        "plt.ylabel('ROI')\n",
        "plt.show()"
      ],
      "metadata": {
        "colab": {
          "base_uri": "https://localhost:8080/",
          "height": 556
        },
        "id": "prUlzvR-nyKk",
        "outputId": "52a3107a-200b-41b7-e76b-ff5bed2ac9db"
      },
      "execution_count": 111,
      "outputs": [
        {
          "output_type": "display_data",
          "data": {
            "text/plain": [
              "<Figure size 640x480 with 1 Axes>"
            ],
            "image/png": "[encoded data removed]"
          },
          "metadata": {}
        }
      ]
    },
    {
      "cell_type": "markdown",
      "source": [
        "##TESTING THE HYPOTHESIS"
      ],
      "metadata": {
        "id": "NN5Y6WjyjXsQ"
      }
    },
    {
      "cell_type": "markdown",
      "source": [
        "Check normality (Shapiro-Wilk test) for ROI and PR"
      ],
      "metadata": {
        "id": "iq1twrxLhvUE"
      }
    },
    {
      "cell_type": "code",
      "source": [
        "from scipy.stats import shapiro\n",
        "\n",
        "ROItest = shapiro(df_full['ROI'])\n",
        "\n",
        "\n",
        "PRtest = shapiro(df_full['PR'])\n",
        "\n",
        "print(f'Test for ROI: {ROItest}')\n",
        "print(f'Test for PR: {PRtest}')\n",
        "if ROItest.pvalue < 0.05:\n",
        "    print('Reject the null hypothesis of ROI normality')\n",
        "else:\n",
        "    print('Fail to reject the null hypothesis of ROI normality')\n",
        "\n",
        "if PRtest.pvalue < 0.05:\n",
        "    print('Reject the null hypothesis of PR normality')\n",
        "else:\n",
        "    print('Fail to reject the null hypothesis of PR normality')"
      ],
      "metadata": {
        "colab": {
          "base_uri": "https://localhost:8080/"
        },
        "id": "T0HV3gyHhwu_",
        "outputId": "0e47c67f-6bf9-40be-bab9-40d6e2786919"
      },
      "execution_count": 91,
      "outputs": [
        {
          "output_type": "stream",
          "name": "stdout",
          "text": [
            "Test for ROI: ShapiroResult(statistic=np.float64(0.9030853524200269), pvalue=np.float64(0.0001932086735502074))\n",
            "Test for PR: ShapiroResult(statistic=np.float64(0.829569751755573), pvalue=np.float64(9.454052763091549e-07))\n",
            "Reject the null hypothesis of ROI normality\n",
            "Reject the null hypothesis of PR normality\n"
          ]
        }
      ]
    },
    {
      "cell_type": "markdown",
      "source": [
        "1. ROI\n",
        "W = 0.903\n",
        "\n",
        "p-value = 0.00019\n",
        "\n",
        "Interpretation: p < 0.05 → Reject the null hypothesis of normality → ROI is not normally distributed\n",
        "\n",
        "2. PR\n",
        "W = 0.829\n",
        "\n",
        "p-value ≈ 0.000000945\n",
        "\n",
        "Interpretation: p < 0.05 → PR is also not normally distributed\n",
        "\n",
        "Since both ROI and PR are not normally distributed, I should use non-parametric tests instead of the t-test."
      ],
      "metadata": {
        "id": "zagskjgjii2R"
      }
    },
    {
      "cell_type": "markdown",
      "source": [
        "Mann-Whitney U Test"
      ],
      "metadata": {
        "id": "KTbWxusNi6pS"
      }
    },
    {
      "cell_type": "code",
      "source": [
        "#Mann-Whitney U Test\n",
        "mannwhitneyu_test = mannwhitneyu(df_full[df_full['campaign_name'] == 'Control Campaign']['ROI'], df_full[df_full['campaign_name'] == 'Test Campaign']['ROI'])\n",
        "print(f'Mann-Whitney U Test: {mannwhitneyu_test}')\n",
        "if mannwhitneyu_test.pvalue < 0.05:\n",
        "    print('ROI: Reject the null hypothesis of equal distributions')\n",
        "    print('There is a significant difference in the ROI distributions of the two groups')\n",
        "else:\n",
        "    print('ROI Fail to reject the null hypothesis of equal distributions')\n",
        "    print('There is no significant difference in the ROI distributions of the two groups')"
      ],
      "metadata": {
        "colab": {
          "base_uri": "https://localhost:8080/"
        },
        "id": "TIvCZEAmi5ce",
        "outputId": "7db81c39-62b4-452f-ee80-776ef68a46c6"
      },
      "execution_count": 94,
      "outputs": [
        {
          "output_type": "stream",
          "name": "stdout",
          "text": [
            "Mann-Whitney U Test: MannwhitneyuResult(statistic=np.float64(362.0), pvalue=np.float64(0.27166245232517694))\n",
            "ROI Fail to reject the null hypothesis of equal distributions\n",
            "There is no significant difference in the ROI distributions of the two groups\n"
          ]
        }
      ]
    },
    {
      "cell_type": "code",
      "source": [
        "#Mann-Whitney U Test\n",
        "mannwhitneyu_test = mannwhitneyu(df_full[df_full['campaign_name'] == 'Control Campaign']['PR'], df_full[df_full['campaign_name'] == 'Test Campaign']['PR'])\n",
        "print(f'Mann-Whitney U Test: {mannwhitneyu_test}')\n",
        "if mannwhitneyu_test.pvalue < 0.05:\n",
        "    print('PR: Reject the null hypothesis of equal distributions')\n",
        "    print('There is a significant difference in the PR distributions of the two groups')\n",
        "else:\n",
        "    print('PR: Fail to reject the null hypothesis of equal distributions')\n",
        "    print('There is no significant difference in the PR distributions of the two groups')"
      ],
      "metadata": {
        "colab": {
          "base_uri": "https://localhost:8080/"
        },
        "id": "PqKNuK8mhsJ6",
        "outputId": "04e4fbf3-c14d-4dc0-93b6-bfd4e8f3b0c1"
      },
      "execution_count": 95,
      "outputs": [
        {
          "output_type": "stream",
          "name": "stdout",
          "text": [
            "Mann-Whitney U Test: MannwhitneyuResult(statistic=np.float64(245.0), pvalue=np.float64(0.00406347614003368))\n",
            "PR: Reject the null hypothesis of equal distributions\n",
            "There is a significant difference in the PR distributions of the two groups\n"
          ]
        }
      ]
    },
    {
      "cell_type": "code",
      "source": [
        "# PR boxplot\n",
        "sns.boxplot(x='campaign_name', y='PR', data=df_full)\n",
        "plt.title('PR by Campaign')\n",
        "plt.xlabel('Campaign Name')\n",
        "plt.ylabel('PR')\n",
        "plt.show()"
      ],
      "metadata": {
        "colab": {
          "base_uri": "https://localhost:8080/",
          "height": 472
        },
        "id": "D33llP7Qos4o",
        "outputId": "a751383b-f58d-4a9e-cc59-38ed68c422ed"
      },
      "execution_count": 112,
      "outputs": [
        {
          "output_type": "display_data",
          "data": {
            "text/plain": [
              "<Figure size 640x480 with 1 Axes>"
            ],
            "image/png": "[encoded data removed]"
          },
          "metadata": {}
        }
      ]
    },
    {
      "cell_type": "markdown",
      "source": [
        "###Results:\n",
        "1. There is not enough statistical evidence to say the test campaign’s ROI is significantly higher than the control campaign’s.\n",
        "\n",
        "2. The Test Campaign performed better in terms of Purchase Rate — your hypothesis is supported!\n",
        "\n",
        "While ROI didn’t pass the significance test, PR did. So even if the test campaigns didn’t earn more money per dollar spent, they were more effective at converting impressions into purchases.\n",
        "\n",
        "###Meaning:\n",
        "Even if ROI gains weren’t statistically significant, the campaigns showed a meaningful and significant improvement in the purchase rate, signaling stronger audience engagement or better messaging."
      ],
      "metadata": {
        "id": "iP2ilAemkFub"
      }
    },
    {
      "cell_type": "markdown",
      "source": [
        "Let's look more into the ROI that failed:"
      ],
      "metadata": {
        "id": "XUpBJvJpmB4o"
      }
    },
    {
      "cell_type": "code",
      "source": [
        "\n",
        "sns.boxplot(x='campaign_name', y='ROI', data=df_full)\n",
        "plt.title('ROI by Campaign')\n",
        "plt.xlabel('Campaign Name')\n",
        "plt.ylabel('ROI')\n",
        "plt.show()\n"
      ],
      "metadata": {
        "colab": {
          "base_uri": "https://localhost:8080/",
          "height": 472
        },
        "id": "KP3VhIOxi4_x",
        "outputId": "8589c1e6-ce0d-4d04-97b5-8a36560c10b8"
      },
      "execution_count": 96,
      "outputs": [
        {
          "output_type": "display_data",
          "data": {
            "text/plain": [
              "<Figure size 640x480 with 1 Axes>"
            ],
            "image/png": "[encoded data removed]"
          },
          "metadata": {}
        }
      ]
    },
    {
      "cell_type": "code",
      "source": [
        "# Check Median ROI\n",
        "print(df_full.groupby('campaign_name')['ROI'].median())"
      ],
      "metadata": {
        "colab": {
          "base_uri": "https://localhost:8080/"
        },
        "id": "gx7y__i8ksCJ",
        "outputId": "0569f658-423c-4562-ba5c-3b0d9f90e50c"
      },
      "execution_count": 97,
      "outputs": [
        {
          "output_type": "stream",
          "name": "stdout",
          "text": [
            "campaign_name\n",
            "Control Campaign    4.621005\n",
            "Test Campaign       5.062840\n",
            "Name: ROI, dtype: float64\n"
          ]
        }
      ]
    },
    {
      "cell_type": "code",
      "source": [
        "roi_lift = (5.06 - 4.62) / 4.62 * 100\n",
        "lift_rounded = round(roi_lift, 2)\n",
        "print(f'ROI Lift: {lift_rounded}%')"
      ],
      "metadata": {
        "colab": {
          "base_uri": "https://localhost:8080/"
        },
        "id": "urhbacP5lEIh",
        "outputId": "416f390f-6ca8-4837-c9d8-e8c239b787cc"
      },
      "execution_count": 107,
      "outputs": [
        {
          "output_type": "stream",
          "name": "stdout",
          "text": [
            "ROI Lift: 9.52%\n"
          ]
        }
      ]
    },
    {
      "cell_type": "markdown",
      "source": [
        "The Test Campaign saw an approximate 9.5% increase in mean ROI compared to the Control Campaign."
      ],
      "metadata": {
        "id": "dBrQbfAllzAs"
      }
    },
    {
      "cell_type": "markdown",
      "source": [
        "### Statistics Breakdown\n",
        "***Why Was a 9.5% ROI Lift Not Statistically Significant If the Hypothesis Was Only for 5%?***\n",
        "\n",
        "Because statistical significance isn't just about the size of the effect — it's about how confidently we can say the observed effect wasn’t due to random chance.\n",
        "\n",
        "A 9.5% difference is great, but the p-value (0.27) told us:\n",
        "\n",
        "“There’s a 27% chance that this difference could have happened randomly, assuming there’s no real difference at all.”\n",
        "\n",
        "That’s way above the 5% (p = 0.05) threshold most analysts use."
      ],
      "metadata": {
        "id": "FzZ6JhM0raWY"
      }
    },
    {
      "cell_type": "markdown",
      "source": [
        "# Results Overview:\n",
        "\n",
        "ROI (Return on Investment):\n",
        "\n",
        "Mean ROI increased from 4.62 to 5.06 (~9.5% lift)\n",
        "\n",
        "However, this difference was not statistically significant based on the Mann-Whitney U test (p = 0.2717)\n",
        "\n",
        "**Interpretation: We cannot confidently attribute the improvement to the test campaign rather than chance.**\n",
        "\n",
        "PR (Purchase Rate):\n",
        "\n",
        "Statistically significant improvement (p = 0.0041)\n",
        "\n",
        "**Supports the hypothesis that the Test Campaign increased conversions**"
      ],
      "metadata": {
        "id": "1Pmg3-6pl_Wd"
      }
    },
    {
      "cell_type": "markdown",
      "source": [
        "###Recommendation:\n",
        "Consider iterating or scaling the Test Campaign — especially if the objective is to drive more purchases, not necessarily maximize ROI in the short term. Continue monitoring ROI in future campaigns to see if this lift becomes significant with a larger sample."
      ],
      "metadata": {
        "id": "rXdcP_4ypS3T"
      }
    }
  ]
}